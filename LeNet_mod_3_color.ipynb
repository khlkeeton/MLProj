{
 "cells": [
  {
   "metadata": {},
   "cell_type": "markdown",
   "source": "Imports",
   "id": "c924cfd5a5076752"
  },
  {
   "cell_type": "code",
   "id": "initial_id",
   "metadata": {
    "collapsed": true,
    "ExecuteTime": {
     "end_time": "2024-05-01T00:46:59.724549Z",
     "start_time": "2024-05-01T00:46:59.722218Z"
    }
   },
   "source": [
    "import matplotlib.pyplot as plt\n",
    "import torch\n",
    "import torchvision.datasets as datasets\n",
    "import torch.nn as F\n",
    "import torchvision.transforms as transforms\n",
    "import numpy as np\n",
    "\n",
    "print(torch.version.cuda)"
   ],
   "outputs": [
    {
     "name": "stdout",
     "output_type": "stream",
     "text": [
      "12.1\n"
     ]
    }
   ],
   "execution_count": 120
  },
  {
   "metadata": {},
   "cell_type": "markdown",
   "source": "Set device",
   "id": "506d06d311f773b9"
  },
  {
   "metadata": {
    "ExecuteTime": {
     "end_time": "2024-05-01T00:46:59.765145Z",
     "start_time": "2024-05-01T00:46:59.761065Z"
    }
   },
   "cell_type": "code",
   "source": [
    "device = (\"cuda\" if torch.cuda.is_available() else \"mps\" if torch.backends.mps.is_available() else \"cpu\")\n",
    "print(f\"using {device} device\")"
   ],
   "id": "c1ee5d726c6f0d77",
   "outputs": [
    {
     "name": "stdout",
     "output_type": "stream",
     "text": [
      "using cuda device\n"
     ]
    }
   ],
   "execution_count": 121
  },
  {
   "metadata": {},
   "cell_type": "markdown",
   "source": "# CIFAR 10 Dataset",
   "id": "6a9a97b5deb67524"
  },
  {
   "metadata": {},
   "cell_type": "markdown",
   "source": "### Import CIFAR 10 dataset",
   "id": "72025b0217d27033"
  },
  {
   "metadata": {
    "ExecuteTime": {
     "end_time": "2024-05-01T00:47:00.916079Z",
     "start_time": "2024-05-01T00:46:59.765145Z"
    }
   },
   "cell_type": "code",
   "source": [
    "batch_size = 64\n",
    "\n",
    "train_dataset = datasets.CIFAR10(root = './data',\n",
    "                               train = True,\n",
    "                               transform = transforms.Compose([\n",
    "                                   transforms.Resize((32,32)),\n",
    "                                   transforms.ToTensor(),\n",
    "                                   transforms.Normalize(mean=(0.1325,), std = (0.3105,))]),\n",
    "                               download = True\n",
    "                               )\n",
    "\n",
    "test_dataset = datasets.CIFAR10(root='./data',\n",
    "                               train=False,\n",
    "                               transform=transforms.Compose([\n",
    "                                   transforms.Resize((32, 32)),\n",
    "                                   transforms.ToTensor(),\n",
    "                                   transforms.Normalize(mean=(0.1325,), std=(0.3105,))]),\n",
    "                               download=True\n",
    "                               )\n",
    "        \n",
    "train_loader = torch.utils.data.DataLoader(dataset=train_dataset, \n",
    "                                          batch_size=batch_size, \n",
    "                                          shuffle=True)\n",
    "\n",
    "test_loader = torch.utils.data.DataLoader(dataset=test_dataset, \n",
    "                                          batch_size=batch_size, \n",
    "                                          shuffle=True)"
   ],
   "id": "897793f3840b860c",
   "outputs": [
    {
     "name": "stdout",
     "output_type": "stream",
     "text": [
      "Files already downloaded and verified\n",
      "Files already downloaded and verified\n"
     ]
    }
   ],
   "execution_count": 122
  },
  {
   "metadata": {},
   "cell_type": "markdown",
   "source": "### Set up the LeNet ANN",
   "id": "11833102c80861c7"
  },
  {
   "metadata": {
    "ExecuteTime": {
     "end_time": "2024-05-01T00:47:00.921870Z",
     "start_time": "2024-05-01T00:47:00.917083Z"
    }
   },
   "cell_type": "code",
   "source": [
    "class LeNet_mod(F.Module):\n",
    "    def __init__(self, num_classes):\n",
    "        super(LeNet_mod, self).__init__()\n",
    "        self.layer1 = F.Sequential(\n",
    "            F.Conv2d(3, 13, kernel_size = 5, stride=1, padding = 0),\n",
    "            F.BatchNorm2d(13),\n",
    "            F.ReLU(),\n",
    "            F.MaxPool2d(kernel_size=2, stride=2)\n",
    "        )\n",
    "        self.layer2 = F.Sequential(\n",
    "            F.Conv2d(13, 60, kernel_size = 5, stride=1, padding = 0),\n",
    "            F.BatchNorm2d(60),\n",
    "            F.ReLU(),\n",
    "            F.MaxPool2d(kernel_size=2, stride=2)\n",
    "        )\n",
    "        self.fc = F.Linear(1500,360)\n",
    "        self.relu = F.ReLU()\n",
    "        self.fc1 = F.Linear(360,256)\n",
    "        self.relu1 = F.ReLU()\n",
    "        self.fc2 = F.Linear(256,num_classes)\n",
    "    \n",
    "    def forward(self, x):\n",
    "        out = self.layer1(x)\n",
    "        out = self.layer2(out)\n",
    "        out = out.reshape(out.size(0), -1)\n",
    "        out = self.fc(out)\n",
    "        out = self.relu(out)\n",
    "        out = self.fc1(out)\n",
    "        out = self.relu1(out)\n",
    "        out = self.fc2(out)\n",
    "        return out"
   ],
   "id": "18ab1a979e59d7d",
   "outputs": [],
   "execution_count": 123
  },
  {
   "metadata": {},
   "cell_type": "markdown",
   "source": "### Epoch tests",
   "id": "3aa7b66dfc1c8200"
  },
  {
   "metadata": {},
   "cell_type": "markdown",
   "source": "##### Set Hyperparamaters",
   "id": "ef23fff219b866a3"
  },
  {
   "metadata": {
    "ExecuteTime": {
     "end_time": "2024-05-01T00:47:00.924530Z",
     "start_time": "2024-05-01T00:47:00.921870Z"
    }
   },
   "cell_type": "code",
   "source": [
    "num_classes = 10\n",
    "learning_rate = 0.001\n",
    "num_epochs = 20"
   ],
   "id": "157ec766c7027f7",
   "outputs": [],
   "execution_count": 124
  },
  {
   "metadata": {},
   "cell_type": "markdown",
   "source": "##### Using the NN",
   "id": "9727cd06087b43e0"
  },
  {
   "metadata": {
    "ExecuteTime": {
     "end_time": "2024-05-01T00:47:00.935393Z",
     "start_time": "2024-05-01T00:47:00.924530Z"
    }
   },
   "cell_type": "code",
   "source": [
    "model = LeNet_mod(num_classes = num_classes).to(device)\n",
    "\n",
    "cost = F.CrossEntropyLoss()\n",
    "\n",
    "optimizer = torch.optim.Adam(model.parameters(), lr=learning_rate)\n",
    "\n",
    "total_step = len(train_loader)\n",
    "\n",
    "error = []"
   ],
   "id": "5e164695c02051c0",
   "outputs": [],
   "execution_count": 125
  },
  {
   "metadata": {},
   "cell_type": "markdown",
   "source": "##### run NN. Record accuracy at the end",
   "id": "dcec502f3e84330a"
  },
  {
   "metadata": {
    "ExecuteTime": {
     "end_time": "2024-05-01T00:49:47.017378Z",
     "start_time": "2024-05-01T00:47:00.935393Z"
    }
   },
   "cell_type": "code",
   "source": [
    "total_step = len(train_loader)\n",
    "for epoch in range(num_epochs):\n",
    "    for i, (images, labels) in enumerate(train_loader):\n",
    "        images = images.to(device)\n",
    "        labels = labels.to(device)\n",
    "        outputs = model(images)\n",
    "        loss = cost(outputs, labels)\n",
    "        optimizer.zero_grad()\n",
    "        loss.backward()\n",
    "        optimizer.step()\n",
    "        \n",
    "    with torch.no_grad():\n",
    "        correct = 0\n",
    "        total = 0\n",
    "        for images, labels in test_loader:\n",
    "            images = images.to(device)\n",
    "            labels = labels.to(device)\n",
    "            output = model(images)\n",
    "            _, predicted = torch.max(output.data, 1)\n",
    "            total+=labels.size(0)\n",
    "            correct+=(predicted == labels).sum().item()\n",
    "        error.append(100 * correct / total)\n",
    "        "
   ],
   "id": "3ca65bc953f025d",
   "outputs": [],
   "execution_count": 126
  },
  {
   "metadata": {},
   "cell_type": "markdown",
   "source": "##### Graph",
   "id": "db05f8a67c86d5b0"
  },
  {
   "metadata": {
    "ExecuteTime": {
     "end_time": "2024-05-01T00:49:47.079626Z",
     "start_time": "2024-05-01T00:49:47.017378Z"
    }
   },
   "cell_type": "code",
   "source": [
    "plt.plot(error)\n",
    "plt.show()"
   ],
   "id": "1c6ad1907952b078",
   "outputs": [
    {
     "data": {
      "text/plain": [
       "<Figure size 640x480 with 1 Axes>"
      ],
      "image/png": "[encoded data removed]"
     },
     "metadata": {},
     "output_type": "display_data"
    }
   ],
   "execution_count": 127
  },
  {
   "metadata": {
    "ExecuteTime": {
     "end_time": "2024-05-01T00:49:47.082846Z",
     "start_time": "2024-05-01T00:49:47.079626Z"
    }
   },
   "cell_type": "code",
   "source": "print(\"Maximum accuracy of the network on the 10000 test images: {} at epoch {}\".format(np.max(error), np.argmax(error)))",
   "id": "ce89f81325541b95",
   "outputs": [
    {
     "name": "stdout",
     "output_type": "stream",
     "text": [
      "Maximum accuracy of the network on the 10000 test images: 73.73 at epoch 8\n"
     ]
    }
   ],
   "execution_count": 128
  },
  {
   "metadata": {},
   "cell_type": "markdown",
   "source": "### Optimal Learning Rate",
   "id": "4263a94e146b0924"
  },
  {
   "metadata": {},
   "cell_type": "markdown",
   "source": "##### Hyperparameters",
   "id": "ae4a73950ceb0088"
  },
  {
   "metadata": {
    "ExecuteTime": {
     "end_time": "2024-05-01T00:49:47.085526Z",
     "start_time": "2024-05-01T00:49:47.082846Z"
    }
   },
   "cell_type": "code",
   "source": [
    "batch_size = 64\n",
    "num_classes = 10\n",
    "learning_rate = [1,0.1,0.01,0.001,0.0001,0.00001]\n",
    "num_epochs = 7\n",
    "error = []"
   ],
   "id": "cea553f5d7a172d0",
   "outputs": [],
   "execution_count": 129
  },
  {
   "metadata": {},
   "cell_type": "markdown",
   "source": [
    "##### Run the NN.\n",
    "Record the loss at the end of each iteration"
   ],
   "id": "7c0ff68b92ec2b66"
  },
  {
   "metadata": {
    "jupyter": {
     "is_executing": true
    },
    "ExecuteTime": {
     "start_time": "2024-05-01T00:49:47.085526Z"
    }
   },
   "cell_type": "code",
   "source": [
    "for i in learning_rate:    \n",
    "    model = LeNet_mod(num_classes = num_classes).to(device)\n",
    "    \n",
    "    cost = F.CrossEntropyLoss()\n",
    "    \n",
    "    optimizer = torch.optim.Adam(model.parameters(), lr=i)\n",
    "    \n",
    "    total_step = len(train_loader)\n",
    "    error.append([])\n",
    "    for epoch in range(num_epochs):\n",
    "        \n",
    "        for j, (images, labels) in enumerate(train_loader):\n",
    "            images = images.to(device)\n",
    "            labels = labels.to(device)\n",
    "            outputs = model(images)\n",
    "            loss = cost(outputs, labels)\n",
    "            optimizer.zero_grad()\n",
    "            loss.backward()\n",
    "            optimizer.step()\n",
    "            error[-1].append(loss.item())"
   ],
   "id": "d2aa3f32297d0c38",
   "outputs": [],
   "execution_count": null
  },
  {
   "metadata": {},
   "cell_type": "markdown",
   "source": [
    "##### Graphs\n",
    "Removed the first 1000 cases because the first epoch created an outlier.\n",
    "\n",
    "\n",
    "There is an additional graph because the learning rates of 1 and 0.1 threw the scale of the graph off."
   ],
   "id": "d2d1c9b274fc4153"
  },
  {
   "metadata": {
    "jupyter": {
     "is_executing": true
    }
   },
   "cell_type": "code",
   "source": [
    "for i in range(len(error)):\n",
    "    plt.plot(error[i], label='{}'.format(learning_rate[i]))\n",
    "plt.legend()\n",
    "plt.show()"
   ],
   "id": "4369bd4437340a2d",
   "outputs": [],
   "execution_count": null
  },
  {
   "metadata": {
    "jupyter": {
     "is_executing": true
    }
   },
   "cell_type": "code",
   "source": [
    "for i in range(1,len(error)):\n",
    "    plt.plot(error[i], label='{}'.format(learning_rate[i]))\n",
    "plt.legend()\n",
    "plt.show()"
   ],
   "id": "eef9ea10b1b78bfd",
   "outputs": [],
   "execution_count": null
  },
  {
   "metadata": {
    "jupyter": {
     "is_executing": true
    }
   },
   "cell_type": "code",
   "source": [
    "for i in range(2,len(error)):\n",
    "    plt.plot(error[i], label='{}'.format(learning_rate[i]))\n",
    "plt.legend()\n",
    "plt.show()"
   ],
   "id": "ed5a63bbb63f64a1",
   "outputs": [],
   "execution_count": null
  },
  {
   "metadata": {},
   "cell_type": "markdown",
   "source": "All individual graphs",
   "id": "8362f72804a094e2"
  },
  {
   "metadata": {
    "jupyter": {
     "is_executing": true
    }
   },
   "cell_type": "code",
   "source": [
    "for i in range(len(error)):\n",
    "    plt.plot(error[i], label='{}'.format(learning_rate[i]))\n",
    "    plt.title('Learning rate = {}'.format(learning_rate[i]))\n",
    "    plt.show()"
   ],
   "id": "d45a0eae47650a0b",
   "outputs": [],
   "execution_count": null
  }
 ],
 "metadata": {
  "kernelspec": {
   "display_name": "Python 3",
   "language": "python",
   "name": "python3"
  },
  "language_info": {
   "codemirror_mode": {
    "name": "ipython",
    "version": 2
   },
   "file_extension": ".py",
   "mimetype": "text/x-python",
   "name": "python",
   "nbconvert_exporter": "python",
   "pygments_lexer": "ipython2",
   "version": "2.7.6"
  }
 },
 "nbformat": 4,
 "nbformat_minor": 5
}
