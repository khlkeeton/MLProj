{
 "cells": [
  {
   "metadata": {
    "ExecuteTime": {
     "end_time": "2024-05-09T21:59:20.177130Z",
     "start_time": "2024-05-09T21:59:20.174129Z"
    }
   },
   "cell_type": "code",
   "source": [
    "import matplotlib.pyplot as plt\n",
    "import torch\n",
    "import torchvision.datasets as datasets\n",
    "import torchvision.transforms as transforms\n",
    "import numpy as np"
   ],
   "id": "213f08e2004d1fb6",
   "outputs": [],
   "execution_count": 24
  },
  {
   "metadata": {},
   "cell_type": "markdown",
   "source": "# CIFAR100",
   "id": "ad8c8e93b6117bba"
  },
  {
   "cell_type": "code",
   "id": "initial_id",
   "metadata": {
    "collapsed": true,
    "ExecuteTime": {
     "end_time": "2024-05-09T21:59:21.173416Z",
     "start_time": "2024-05-09T21:59:20.184136Z"
    }
   },
   "source": [
    "train_dataset = datasets.CIFAR100(root = './data',\n",
    "                               train = True,\n",
    "                               transform = transforms.Compose([\n",
    "                                   transforms.Resize((32,32)),\n",
    "                                   transforms.ToTensor()]),\n",
    "                               download = True\n",
    "                               )\n",
    "\n",
    "test_dataset = datasets.CIFAR100(root='./data',\n",
    "                               train=False,\n",
    "                               transform=transforms.Compose([\n",
    "                                   transforms.Resize((32, 32)),\n",
    "                                   transforms.ToTensor()]),\n",
    "                               download=True\n",
    "                               )\n",
    "\n",
    "train_loader = torch.utils.data.DataLoader(dataset=train_dataset, \n",
    "                                          batch_size=1, \n",
    "                                          shuffle=True)\n",
    "\n",
    "test_loader = torch.utils.data.DataLoader(dataset=test_dataset, \n",
    "                                          batch_size=1, \n",
    "                                          shuffle=True)"
   ],
   "outputs": [
    {
     "name": "stdout",
     "output_type": "stream",
     "text": [
      "Files already downloaded and verified\n",
      "Files already downloaded and verified\n"
     ]
    }
   ],
   "execution_count": 25
  },
  {
   "metadata": {},
   "cell_type": "markdown",
   "source": "### Mean Color distribution",
   "id": "d2cf9d81179b559f"
  },
  {
   "metadata": {
    "ExecuteTime": {
     "end_time": "2024-05-09T21:59:22.411719Z",
     "start_time": "2024-05-09T21:59:21.174422Z"
    }
   },
   "cell_type": "code",
   "source": [
    "means = [[],[],[]]\n",
    "\n",
    "for images, _ in train_loader:\n",
    "    batch_samples = images.size(0)\n",
    "    images = images.view(batch_samples, images.size(1), -1)\n",
    "    means[0].append(images.mean(0)[0].mean(0)*256)\n",
    "    means[1].append(images.mean(0)[1].mean(0)*256)\n",
    "    means[2].append(images.mean(0)[2].mean(0)*256)\n",
    "\n",
    "plt.hist(means[0], bins=256)\n",
    "plt.title('Mean of Red in training images')\n",
    "plt.xlabel(\"Mean of Red\")\n",
    "plt.ylabel(\"Count\")\n",
    "plt.savefig('./ExploratoryData/CIFAR100/train-red.png')\n",
    "plt.clf()\n",
    "plt.hist(means[1], bins=256)\n",
    "plt.title('Mean of Green in training images')\n",
    "plt.xlabel(\"Mean of Green\")\n",
    "plt.ylabel(\"Count\")\n",
    "plt.savefig('./ExploratoryData/CIFAR100/train-green.png')\n",
    "plt.close()\n",
    "plt.hist(means[2], bins=256)\n",
    "plt.title('Mean of Blue in training images')\n",
    "plt.xlabel(\"Mean of Blue\")\n",
    "plt.ylabel(\"Count\")\n",
    "plt.savefig('./ExploratoryData/CIFAR100/train-blue.png')"
   ],
   "id": "b3e17f5daf0c5e57",
   "outputs": [
    {
     "ename": "KeyboardInterrupt",
     "evalue": "",
     "output_type": "error",
     "traceback": [
      "\u001B[1;31m---------------------------------------------------------------------------\u001B[0m",
      "\u001B[1;31mKeyboardInterrupt\u001B[0m                         Traceback (most recent call last)",
      "Cell \u001B[1;32mIn[26], line 8\u001B[0m\n\u001B[0;32m      6\u001B[0m     means[\u001B[38;5;241m0\u001B[39m]\u001B[38;5;241m.\u001B[39mappend(images\u001B[38;5;241m.\u001B[39mmean(\u001B[38;5;241m0\u001B[39m)[\u001B[38;5;241m0\u001B[39m]\u001B[38;5;241m.\u001B[39mmean(\u001B[38;5;241m0\u001B[39m)\u001B[38;5;241m*\u001B[39m\u001B[38;5;241m256\u001B[39m)\n\u001B[0;32m      7\u001B[0m     means[\u001B[38;5;241m1\u001B[39m]\u001B[38;5;241m.\u001B[39mappend(images\u001B[38;5;241m.\u001B[39mmean(\u001B[38;5;241m0\u001B[39m)[\u001B[38;5;241m1\u001B[39m]\u001B[38;5;241m.\u001B[39mmean(\u001B[38;5;241m0\u001B[39m)\u001B[38;5;241m*\u001B[39m\u001B[38;5;241m256\u001B[39m)\n\u001B[1;32m----> 8\u001B[0m     means[\u001B[38;5;241m2\u001B[39m]\u001B[38;5;241m.\u001B[39mappend(\u001B[43mimages\u001B[49m\u001B[38;5;241;43m.\u001B[39;49m\u001B[43mmean\u001B[49m\u001B[43m(\u001B[49m\u001B[38;5;241;43m0\u001B[39;49m\u001B[43m)\u001B[49m[\u001B[38;5;241m2\u001B[39m]\u001B[38;5;241m.\u001B[39mmean(\u001B[38;5;241m0\u001B[39m)\u001B[38;5;241m*\u001B[39m\u001B[38;5;241m256\u001B[39m)\n\u001B[0;32m     10\u001B[0m plt\u001B[38;5;241m.\u001B[39mhist(means[\u001B[38;5;241m0\u001B[39m], bins\u001B[38;5;241m=\u001B[39m\u001B[38;5;241m256\u001B[39m)\n\u001B[0;32m     11\u001B[0m plt\u001B[38;5;241m.\u001B[39mtitle(\u001B[38;5;124m'\u001B[39m\u001B[38;5;124mMean of Red in training images\u001B[39m\u001B[38;5;124m'\u001B[39m)\n",
      "\u001B[1;31mKeyboardInterrupt\u001B[0m: "
     ]
    }
   ],
   "execution_count": 26
  },
  {
   "metadata": {},
   "cell_type": "code",
   "source": [
    "means = [[],[],[]]\n",
    "\n",
    "for images, _ in test_loader:\n",
    "    batch_samples = images.size(0)\n",
    "    images = images.view(batch_samples, images.size(1), -1)\n",
    "    means[0].append(images.mean(0)[0].mean(0)*256)\n",
    "    means[1].append(images.mean(0)[1].mean(0)*256)\n",
    "    means[2].append(images.mean(0)[2].mean(0)*256)\n",
    "\n",
    "plt.hist(means[0], bins=256)\n",
    "plt.title('Mean of Red in test images')\n",
    "plt.xlabel(\"Mean of Red\")\n",
    "plt.ylabel(\"Count\")\n",
    "plt.savefig('./ExploratoryData/CIFAR100/test-red.png')\n",
    "plt.clf()\n",
    "plt.hist(means[1], bins=256)\n",
    "plt.title('Mean of Green in test images')\n",
    "plt.xlabel(\"Mean of Green\")\n",
    "plt.ylabel(\"Count\")\n",
    "plt.savefig('./ExploratoryData/CIFAR100/test-green.png')\n",
    "plt.close()\n",
    "plt.hist(means[2], bins=256)\n",
    "plt.title('Mean of Blue in test images')\n",
    "plt.xlabel(\"Mean of Blue\")\n",
    "plt.ylabel(\"Count\")\n",
    "plt.savefig('./ExploratoryData/CIFAR100/test-blue.png')"
   ],
   "id": "3e6b6d9e76b26bf7",
   "outputs": [],
   "execution_count": null
  },
  {
   "metadata": {},
   "cell_type": "markdown",
   "source": "# CIFAR10",
   "id": "284cce240e14d56d"
  },
  {
   "metadata": {},
   "cell_type": "code",
   "source": [
    "train_dataset = datasets.CIFAR10(root = './data',\n",
    "                               train = True,\n",
    "                               transform = transforms.Compose([\n",
    "                                   transforms.Resize((32,32)),\n",
    "                                   transforms.ToTensor()]),\n",
    "                               download = True\n",
    "                               )\n",
    "\n",
    "test_dataset = datasets.CIFAR10(root='./data',\n",
    "                               train=False,\n",
    "                               transform=transforms.Compose([\n",
    "                                   transforms.Resize((32, 32)),\n",
    "                                   transforms.ToTensor()]),\n",
    "                               download=True\n",
    "                               )\n",
    "\n",
    "train_loader = torch.utils.data.DataLoader(dataset=train_dataset, \n",
    "                                          batch_size=1, \n",
    "                                          shuffle=True)\n",
    "\n",
    "test_loader = torch.utils.data.DataLoader(dataset=test_dataset, \n",
    "                                          batch_size=1, \n",
    "                                          shuffle=True)"
   ],
   "id": "403b3050b634f64c",
   "outputs": [],
   "execution_count": null
  },
  {
   "metadata": {},
   "cell_type": "code",
   "source": [
    "means = [[],[],[]]\n",
    "\n",
    "for images, _ in train_loader:\n",
    "    batch_samples = images.size(0)\n",
    "    images = images.view(batch_samples, images.size(1), -1)\n",
    "    means[0].append(images.mean(0)[0].mean(0)*256)\n",
    "    means[1].append(images.mean(0)[1].mean(0)*256)\n",
    "    means[2].append(images.mean(0)[2].mean(0)*256)\n",
    "\n",
    "plt.hist(means[0], bins=256)\n",
    "plt.title('Mean of Red in training images')\n",
    "plt.xlabel(\"Mean of Red\")\n",
    "plt.ylabel(\"Count\")\n",
    "plt.savefig('./ExploratoryData/CIFAR10/train-red.png')\n",
    "plt.clf()\n",
    "plt.hist(means[1], bins=256)\n",
    "plt.title('Mean of Green in training images')\n",
    "plt.xlabel(\"Mean of Green\")\n",
    "plt.ylabel(\"Count\")\n",
    "plt.savefig('./ExploratoryData/CIFAR10/train-green.png')\n",
    "plt.close()\n",
    "plt.hist(means[2], bins=256)\n",
    "plt.title('Mean of Blue in training images')\n",
    "plt.xlabel(\"Mean of Blue\")\n",
    "plt.ylabel(\"Count\")\n",
    "plt.savefig('./ExploratoryData/CIFAR10/train-blue.png')"
   ],
   "id": "1739b037678ce6ee",
   "outputs": [],
   "execution_count": null
  },
  {
   "metadata": {},
   "cell_type": "code",
   "source": [
    "means = [[],[],[]]\n",
    "\n",
    "for images, _ in test_loader:\n",
    "    batch_samples = images.size(0)\n",
    "    images = images.view(batch_samples, images.size(1), -1)\n",
    "    means[0].append(images.mean(0)[0].mean(0)*256)\n",
    "    means[1].append(images.mean(0)[1].mean(0)*256)\n",
    "    means[2].append(images.mean(0)[2].mean(0)*256)\n",
    "\n",
    "plt.hist(means[0], bins=256)\n",
    "plt.title('Mean of Red in test images')\n",
    "plt.xlabel(\"Mean of Red\")\n",
    "plt.ylabel(\"Count\")\n",
    "plt.savefig('./ExploratoryData/CIFAR10/test-red.png')\n",
    "plt.clf()\n",
    "plt.hist(means[1], bins=256)\n",
    "plt.title('Mean of Green in test images')\n",
    "plt.xlabel(\"Mean of Green\")\n",
    "plt.ylabel(\"Count\")\n",
    "plt.savefig('./ExploratoryData/CIFAR10/test-green.png')\n",
    "plt.close()\n",
    "plt.hist(means[2], bins=256)\n",
    "plt.title('Mean of Blue in test images')\n",
    "plt.xlabel(\"Mean of Blue\")\n",
    "plt.ylabel(\"Count\")\n",
    "plt.savefig('./ExploratoryData/CIFAR10/test-blue.png')"
   ],
   "id": "15b1f8b864bf9dda",
   "outputs": [],
   "execution_count": null
  },
  {
   "metadata": {},
   "cell_type": "markdown",
   "source": "# MNIST",
   "id": "3c471d9fe5100f60"
  },
  {
   "metadata": {
    "ExecuteTime": {
     "end_time": "2024-05-09T21:59:24.396070Z",
     "start_time": "2024-05-09T21:59:24.365156Z"
    }
   },
   "cell_type": "code",
   "source": [
    "train_dataset = datasets.MNIST(root = './data',\n",
    "                               train = True,\n",
    "                               transform = transforms.Compose([\n",
    "                                   transforms.Resize((32,32)),\n",
    "                                   transforms.ToTensor()]),\n",
    "                               download = True\n",
    "                               )\n",
    "\n",
    "test_dataset = datasets.MNIST(root='./data',\n",
    "                               train=False,\n",
    "                               transform=transforms.Compose([\n",
    "                                   transforms.Resize((32, 32)),\n",
    "                                   transforms.ToTensor()]),\n",
    "                               download=True\n",
    "                               )\n",
    "\n",
    "train_loader = torch.utils.data.DataLoader(dataset=train_dataset, \n",
    "                                          batch_size=1, \n",
    "                                          shuffle=True)\n",
    "\n",
    "test_loader = torch.utils.data.DataLoader(dataset=test_dataset, \n",
    "                                          batch_size=1, \n",
    "                                          shuffle=True)"
   ],
   "id": "8205aa2f4038b7ec",
   "outputs": [],
   "execution_count": 27
  },
  {
   "metadata": {
    "ExecuteTime": {
     "end_time": "2024-05-09T21:59:53.365969Z",
     "start_time": "2024-05-09T21:59:44.674670Z"
    }
   },
   "cell_type": "code",
   "source": [
    "means = np.zeros(257)\n",
    "\n",
    "\n",
    "for images, _ in train_loader:\n",
    "    batch_samples = images.size(0)\n",
    "    images = images.view(batch_samples, images.size(1), -1)\n",
    "    placeHold = images.mean(0).mean(0)*256\n",
    "    means[round(placeHold.numpy()[0])] += 1\n",
    "\n",
    "plt.plot(np.linspace(0,256, 257), means)\n",
    "plt.title('Mean color in training images')\n",
    "plt.xlabel(\"Mean color\")\n",
    "plt.ylabel(\"Count\")\n",
    "plt.savefig('./ExploratoryData/MNIST/train.png')"
   ],
   "id": "207d023c38653f85",
   "outputs": [
    {
     "data": {
      "text/plain": [
       "<Figure size 640x480 with 1 Axes>"
      ],
      "image/png": "[encoded data removed]"
     },
     "metadata": {},
     "output_type": "display_data"
    }
   ],
   "execution_count": 29
  },
  {
   "metadata": {
    "ExecuteTime": {
     "end_time": "2024-05-09T22:00:18.581840Z",
     "start_time": "2024-05-09T22:00:16.877931Z"
    }
   },
   "cell_type": "code",
   "source": [
    "means = np.zeros(257)\n",
    "\n",
    "\n",
    "for images, _ in test_loader:\n",
    "    batch_samples = images.size(0)\n",
    "    images = images.view(batch_samples, images.size(1), -1)\n",
    "    placeHold = images.mean(0).mean(0)*256\n",
    "    means[round(placeHold.numpy()[0])] += 1\n",
    "\n",
    "plt.plot(np.linspace(0,256, 257), means)\n",
    "plt.title('Mean color in test images')\n",
    "plt.xlabel(\"Mean color\")\n",
    "plt.ylabel(\"Count\")\n",
    "plt.savefig('./ExploratoryData/MNIST/test.png')"
   ],
   "id": "eb671144da2bc3b4",
   "outputs": [
    {
     "data": {
      "text/plain": [
       "<Figure size 640x480 with 1 Axes>"
      ],
      "image/png": "[encoded data removed]"
     },
     "metadata": {},
     "output_type": "display_data"
    }
   ],
   "execution_count": 30
  }
 ],
 "metadata": {
  "kernelspec": {
   "display_name": "Python 3",
   "language": "python",
   "name": "python3"
  },
  "language_info": {
   "codemirror_mode": {
    "name": "ipython",
    "version": 2
   },
   "file_extension": ".py",
   "mimetype": "text/x-python",
   "name": "python",
   "nbconvert_exporter": "python",
   "pygments_lexer": "ipython2",
   "version": "2.7.6"
  }
 },
 "nbformat": 4,
 "nbformat_minor": 5
}
